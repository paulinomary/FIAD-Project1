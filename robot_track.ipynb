{
 "cells": [
  {
   "cell_type": "markdown",
   "metadata": {},
   "source": [
    "<div style=\"widelta_th: 100%; overflow: hidden;\">\n",
    "    <div style=\"display: block;margin-left: auto;margin-right: auto; widelta_th: 100%;\"><img src=\"./1.png\"  /></div>\n",
    "    </a>\n",
    "</div>"
   ]
  },
  {
   "cell_type": "markdown",
   "metadata": {},
   "source": [
    "<h2 style=\"font-family:Avantgarde; font-size:2em; text-align: center;\">Projeto 1 - Fusão de Informação e Análise de Dados</h2>\n",
    "\n",
    "\n",
    "<h4 style=\"font-family:Avantgarde; font-size:1.75em; text-align: center;\">Mestrado em Engenharia e Ciência de Dados</h4>\n",
    "<h4 style=\"font-family:Avantgarde; font-size:1.3em; text-align: center;\">Ano Letivo 2023/2024</h4>\n",
    "\n",
    "<p style = \"font-family:Avantgarde; font-size:1.1em; text-align: center;\"> <b>Mariana Lopes Paulino - 2020190448</b></p>\n",
    "<p style = \"font-family:Avantgarde; font-size:1.1em; text-align: center;\"> <b>Rui Alexandre Coelho Tapadinhas - 2018283200</b></p>"
   ]
  },
  {
   "cell_type": "markdown",
   "metadata": {},
   "source": [
    "<p style=\"font-family:Avantgarde; font-size:1.25em;\"> <b> Tarefas </b> </p>\n",
    "<p style=\"font-family:Avantgarde; font-size:1em;\"> 1. Criar uma função que implementa o modelo dinâmico do robot; </p>\n",
    "<p style=\"font-family:Avantgarde; font-size:1em;\"> 2. Criar uma função que implementa o modelo de observação; </p>\n",
    "<p style=\"font-family:Avantgarde; font-size:1em;\"> 3. Criar uma função que representa a aquisição de dados dos sensores; </p>\n",
    "<p style=\"font-family:Avantgarde; font-size:1em;\"> 4. Criar uma função que implementa o Extended Kalman Filter (EKF); </p>\n",
    "<p style=\"font-family:Avantgarde; font-size:1em;\"> 5. Criar uma função que implementa o Unscented Kalman Filter (UKF); </p>\n",
    "<p style=\"font-family:Avantgarde; font-size:1em;\"> 6. Especificar os vários parâmetros dos filtros e de simulação do robot; </p>\n",
    "<p style=\"font-family:Avantgarde; font-size:1em;\"> 7. Simular o movimento do robot e representar dinamicamente a sua localização, considerando as trajetórias e a elipse indicadas na Figura 1. </p>\n"
   ]
  },
  {
   "cell_type": "markdown",
   "metadata": {},
   "source": [
    "<p style=\"font-family:Avantgarde; font-size:1.15em;\"> <b> Informações Relevantes </b> </p>\n",
    "<p style=\"font-family:Avantgarde; font-size:1em;\"> O robot tem 4 estados no instante k. xk, yk, Φk, vt.  (x, y) é a posição 2D do robot. Φ é a sua orientação e v a sua velocidade. </p>"
   ]
  },
  {
   "cell_type": "markdown",
   "metadata": {},
   "source": [
    "<p style=\"font-family:Avantgarde; font-size:1.5em;\"> 0. Import Libraries </p>"
   ]
  },
  {
   "cell_type": "code",
   "execution_count": 119,
   "metadata": {},
   "outputs": [],
   "source": [
    "from math import sqrt, cos, sin, ceil, atan2, pi\n",
    "import matplotlib.pyplot as plt\n",
    "import numpy as np\n",
    "from plotly import graph_objects as go\n",
    "import pandas as pd\n",
    "import os\n",
    "from scipy.linalg import sqrtm, inv\n",
    "from sklearn.metrics import mean_squared_error as mse, r2_score as r2"
   ]
  },
  {
   "cell_type": "markdown",
   "metadata": {},
   "source": [
    "<p style=\"font-family:Avantgarde; font-size:1.5em;\"> \n",
    "1. Parâmetros dos Filtros e da Simulação do Robot </p>"
   ]
  },
  {
   "cell_type": "markdown",
   "metadata": {},
   "source": [
    "<p style=\"font-family:Avantgarde; font-size:1em;\"> Nesta primeira secção definimos os parâmetros que vão ser utilizadps globalmente mais tarde nos filtros e na simulação da localização do robot. Na variável Q é definida a variância no eixo do x, no eixo do y, yaw e velocidade. Nesta secção é ainda definido o intervalo de tempo Δt, a velocidade v (m/s), a velocidade angular Φ (rad/s) e o tempo (s) que desejamos para a nossa simulação. Todos estes dados irão ser usados mais tarde uma vez que são parâmetros decisivos para o robot.</p>"
   ]
  },
  {
   "cell_type": "code",
   "execution_count": 84,
   "metadata": {},
   "outputs": [],
   "source": [
    "# Covariância para Simular UKF\n",
    "Q = np.diag([0.1, 0.1, np.deg2rad(1.0), 1.0]) ** 2  \n",
    "# Variância no eixo do x, eixo do y, yaw, velocidade\n",
    "\n",
    "R = np.diag([1.0, 1.0]) ** 2\n",
    "# Observar a covariância da posição x,y  \n",
    "\n",
    "# Parâmetros da Simulação\n",
    "# Intervalo de Tempo [s]\n",
    "delta_t = 0.1  \n",
    "\n",
    "# Velocidade medida em [m/s]\n",
    "v = 1.0  \n",
    "\n",
    "# Velocidade angular medida em [rad/s]\n",
    "yawrate = 0.1  \n",
    "\n",
    "# Tempo de Simulação [s]\n",
    "sim_time = 50.0  \n",
    "\n",
    "H = np.array([[1, 0, 0, 0],\n",
    "              [0, 1, 0, 0]], dtype=float)\n",
    "\n",
    "#  Parametros para Filtro UKF\n",
    "ALPHA = 0.001\n",
    "BETA = 2\n",
    "KAPPA = 0"
   ]
  },
  {
   "cell_type": "markdown",
   "metadata": {},
   "source": [
    "<p style=\"font-family:Avantgarde; font-size:1.5em;\"> 2. Aquisição de Dados dos Sensores </p>"
   ]
  },
  {
   "cell_type": "markdown",
   "metadata": {},
   "source": [
    "<p style=\"font-family:Avantgarde; font-size:1em;\"> Nesta etapa do projeto vamos receber o vetor u que vai ter como dados a velocidade e a orientação do robot no instante k. Após a receção desses dados, é necessária a adição de ruído tanto ao GPS como aos dados recebidos como Inputs do instante k em que nos encontramos.</p>"
   ]
  },
  {
   "cell_type": "code",
   "execution_count": 94,
   "metadata": {},
   "outputs": [],
   "source": [
    "def input():\n",
    "    u = np.array([[v, yawrate]]).T\n",
    "    return u"
   ]
  },
  {
   "cell_type": "code",
   "execution_count": 93,
   "metadata": {},
   "outputs": [],
   "source": [
    "# Ruídos Aplicados\n",
    "\n",
    "GPS_Noise = np.diag([0.5, 0.5])**2\n",
    "Input_Noise = np.diag([1.0, np.deg2rad(30.0)])**2"
   ]
  },
  {
   "cell_type": "code",
   "execution_count": 95,
   "metadata": {},
   "outputs": [],
   "source": [
    "def observation(xTrue, xd, u):\n",
    "\n",
    "    xTrue = dynamic_motion_model(xTrue, u)\n",
    "\n",
    "    # add noise to GPS x-y\n",
    "    zx = xTrue[0, 0] + np.random.randn() * GPS_Noise[0, 0]\n",
    "    zy = xTrue[1, 0] + np.random.randn() * GPS_Noise[1, 1]\n",
    "    z = np.array([[zx, zy]])\n",
    "\n",
    "    # add noise to input\n",
    "    ud1 = u[0, 0] + np.random.randn() * Input_Noise[0, 0]\n",
    "    ud2 = u[1, 0] + np.random.randn() * Input_Noise[1, 1]\n",
    "    ud = np.array([[ud1, ud2]]).T\n",
    "\n",
    "    xd = dynamic_motion_model(xd, ud)\n",
    "\n",
    "    return xTrue, z, xd, ud"
   ]
  },
  {
   "cell_type": "markdown",
   "metadata": {},
   "source": [
    "<p style=\"font-family:Avantgarde; font-size:1.5em;\"> 3. Modelo Dinâmico </p>"
   ]
  },
  {
   "cell_type": "markdown",
   "metadata": {},
   "source": [
    "<p style=\"font-family:Avantgarde; font-size:1em;\"> O modelo não linear dinâmico do robot é definido pela expressão: </p>\n",
    "\n",
    "<p style=\"font-family:Avantgarde; font-size:1em; text-align: center;\"> <b> x(k+1) = A*x(k) + B*u(k) + w(k) </b> </p>\n",
    "\n",
    "<p style=\"font-family:Avantgarde; font-size:1em;\"> onde x(k) = [x, y, Φ, v] é o vetor de estados, u(k) = [v, Φ] é o vetor de inputs, A é a matriz de transição de estados, B é a matriz de inputs e w(k) é o ruído do processo. </p>\n",
    "\n",
    "\n",
    "<p style=\"font-family:Avantgarde; font-size:1em;\"> Neste modelo, vai ser criada uma matriz com a dimensão 4x4 onde os elementos da diagonal principal irão ser 1, 1, 1 e 0 respetivamente. Tal como definido em A. </p>"
   ]
  },
  {
   "cell_type": "code",
   "execution_count": 96,
   "metadata": {},
   "outputs": [],
   "source": [
    "def dynamic_motion_model(x, u):\n",
    "    yaw = x[2,0]\n",
    "\n",
    "    A = np.diag([1.0, 1.0, 1.0, 0])\n",
    "    #print(A)\n",
    "\n",
    "    B = np.array([[cos(yaw) * delta_t, 0],\n",
    "                  [sin(yaw) * delta_t, 0],\n",
    "                  [0.0, delta_t],\n",
    "                  [1.0, 0.0]])\n",
    "    #print(B)\n",
    "\n",
    "    x = A @ x + B @ u\n",
    "\n",
    "    return x"
   ]
  },
  {
   "cell_type": "markdown",
   "metadata": {},
   "source": [
    "<p style=\"font-family:Avantgarde; font-size:1.5em;\"> 4. Modelo de Observação </p>"
   ]
  },
  {
   "cell_type": "markdown",
   "metadata": {},
   "source": [
    "<p style=\"font-family:Avantgarde; font-size:1em;\"> O robot vai seguir um modelo de observação cuja fórmula é dada por: </p>\n",
    "\n",
    "<p style=\"font-family:Avantgarde; font-size:1em; text-align: center;\"> <b> z(k) = C*x(k) + r(k) </b> </p>"
   ]
  },
  {
   "cell_type": "code",
   "execution_count": 36,
   "metadata": {},
   "outputs": [],
   "source": [
    "def observation_model(x):\n",
    "\n",
    "    C = np.array([[1, 0, 0, 0],\n",
    "                  [0, 1, 0, 0]])\n",
    "\n",
    "    z = C @ x\n",
    "\n",
    "    return z"
   ]
  },
  {
   "cell_type": "code",
   "execution_count": 37,
   "metadata": {},
   "outputs": [],
   "source": [
    "def jacobianaA(x, u):\n",
    "    v = u[0, 0]\n",
    "    yaw = x[2,0]\n",
    "    \n",
    "    jacobA = np.array([[1, 0, -v * np.sin(yaw) * delta_t, np.cos(yaw) * delta_t],\n",
    "                   [0, 1, v * np.cos(yaw) * delta_t, np.sin(yaw) * delta_t],\n",
    "                   [0, 0, 1, 0],\n",
    "                   [0, 0, 0, 1]], dtype=float)\n",
    "    \n",
    "    return jacobA"
   ]
  },
  {
   "cell_type": "code",
   "execution_count": 38,
   "metadata": {},
   "outputs": [],
   "source": [
    "def jacobianaC():\n",
    "    jacobC = np.array([[1, 0, 0, 0],\n",
    "                   [0, 1, 0, 0]], dtype=float)\n",
    "\n",
    "    return jacobC"
   ]
  },
  {
   "cell_type": "code",
   "execution_count": 71,
   "metadata": {},
   "outputs": [],
   "source": [
    "def obs_model(x):\n",
    "    return jacobianaC().dot(x)"
   ]
  },
  {
   "cell_type": "markdown",
   "metadata": {},
   "source": [
    "<p style=\"font-family:Avantgarde; font-size:1em;\"> Ambos modelos tanto de Observação como Dinâmico foram implementados com base nas fichas práticas e nos dados do enunciado do projeto. </p>"
   ]
  },
  {
   "cell_type": "markdown",
   "metadata": {},
   "source": [
    "<p style=\"font-family:Avantgarde; font-size:1.5em;\"> 5. Extended Kalman Filter (EKF) </p>"
   ]
  },
  {
   "cell_type": "code",
   "execution_count": 107,
   "metadata": {},
   "outputs": [],
   "source": [
    "def ekf(x, p, z, u):\n",
    "    # Predict\n",
    "    xpred = dynamic_motion_model(x, u)\n",
    "    jA = jacobianaA(xpred, u)\n",
    "    ppred = jA.dot(p).dot(jA.T) + Q\n",
    "\n",
    "    # Atualizar\n",
    "    jC = jacobianaC()\n",
    "    zpred = obs_model(xpred)\n",
    "    y = z.T - zpred\n",
    "    S = jC.dot(ppred).dot(jC.T) + R\n",
    "    K = ppred.dot(jC.T).dot(np.linalg.inv(S))\n",
    "    x = xpred + K.dot(y)\n",
    "    p = (np.eye(len(x)) - K.dot(jC)).dot(ppred)\n",
    "\n",
    "    return x, p"
   ]
  },
  {
   "cell_type": "code",
   "execution_count": 108,
   "metadata": {},
   "outputs": [],
   "source": [
    "def save(hxpred, xpred, hxtrue, xtrue, hxdr, xdr, hz, z):\n",
    "    hxpred = np.hstack((hxpred, xpred))\n",
    "    hxtrue = np.hstack((hxtrue, xtrue))\n",
    "    hxdr = np.hstack((hxdr, xdr))\n",
    "    hz = np.vstack((hz, z))\n",
    "    return hxpred, hxtrue, hxdr, hz"
   ]
  },
  {
   "cell_type": "code",
   "execution_count": 206,
   "metadata": {},
   "outputs": [],
   "source": [
    "%matplotlib inline\n",
    "\n",
    "def main():\n",
    "    print('Robot Inicializado')\n",
    "    \n",
    "    # Inicializar o tempo a 0\n",
    "    time = 0.\n",
    "\n",
    "    # vetor de estados [x, y, yaw, v]\n",
    "    xpred = np.zeros((4, 1))    \n",
    "    xtrue = np.zeros((4, 1))    \n",
    "    ppred = np.eye(4)\n",
    "\n",
    "    # dead reckoning\n",
    "    xdr = np.zeros((4, 1))\n",
    "\n",
    "    # histórico\n",
    "    hxpred = xpred\n",
    "    hxtrue = xtrue\n",
    "    hxdr = xtrue\n",
    "    hz = np.zeros((1, 2))\n",
    "\n",
    "    fig = plt.figure()\n",
    "    fig.show()\n",
    "\n",
    "    fig = plt.figure()\n",
    "    fig.show()\n",
    "\n",
    "    while time <= sim_time:\n",
    "        time += delta_t\n",
    "\n",
    "        xtrue, z, xdr, ud = observation(xtrue, xdr, input())\n",
    "        xpred, ppred = ekf(xpred, ppred, z, ud)\n",
    "        hxpred = np.hstack((hxpred, xpred))\n",
    "        hxdr = np.hstack((hxdr, xdr))\n",
    "        hxtrue = np.hstack((hxtrue, xtrue))\n",
    "        hz = np.vstack((hz, z))\n",
    "\n",
    "        plt.cla()\n",
    "        plt.plot(hz[:, 0], hz[:, 1], \".g\")\n",
    "        plt.plot(hxtrue[0, :].flatten(),\n",
    "                    hxtrue[1, :].flatten(), \"-b\")\n",
    "        plt.plot(hxdr[0, :].flatten(),\n",
    "                    hxdr[1, :].flatten(), \"-k\")\n",
    "        plt.plot(hxpred[0, :].flatten(),\n",
    "                    hxpred[1, :].flatten(), \"-r\")\n",
    "        plt.axis(\"equal\")\n",
    "        plt.legend([\"Observação\", \"Verdadeiro\", \"Dead Reckoning\", \"Predição\"])\n",
    "        plt.grid(True)\n",
    "\n",
    "        #Guardar todas as iterações na pasta Frames\n",
    "        if not os.path.exists('frames'):\n",
    "            os.makedirs('frames')\n",
    "        filename = f'frames/{int(ceil(time * 10))}.jpeg'\n",
    "        plt.savefig(filename)\n",
    "        imgs.append(filename)\n",
    "\n",
    "        # Imagem Final\n",
    "    filename = f'{int(ceil(time * 10))}.jpeg'\n",
    "    plt.savefig(filename)\n",
    "        \n",
    "    plt.pause(0.001)"
   ]
  },
  {
   "cell_type": "code",
   "execution_count": 207,
   "metadata": {},
   "outputs": [
    {
     "name": "stdout",
     "output_type": "stream",
     "text": [
      "Robot Inicializado\n"
     ]
    },
    {
     "name": "stderr",
     "output_type": "stream",
     "text": [
      "/var/folders/s8/ryzdv1sn1g15nt9h4886lz7m0000gn/T/ipykernel_6831/3746781274.py:23: UserWarning:\n",
      "\n",
      "FigureCanvasAgg is non-interactive, and thus cannot be shown\n",
      "\n",
      "/var/folders/s8/ryzdv1sn1g15nt9h4886lz7m0000gn/T/ipykernel_6831/3746781274.py:29: UserWarning:\n",
      "\n",
      "FigureCanvasAgg is non-interactive, and thus cannot be shown\n",
      "\n"
     ]
    },
    {
     "data": {
      "text/plain": [
       "<Figure size 640x480 with 0 Axes>"
      ]
     },
     "metadata": {},
     "output_type": "display_data"
    },
    {
     "data": {
      "image/png": "[encoded data removed]",
      "text/plain": [
       "<Figure size 640x480 with 1 Axes>"
      ]
     },
     "metadata": {},
     "output_type": "display_data"
    }
   ],
   "source": [
    "main()"
   ]
  },
  {
   "cell_type": "markdown",
   "metadata": {},
   "source": [
    "<p style=\"font-family:Avantgarde; font-size:1em;\"> Na secção acima desenvolvemos o Filtro Extended Kalman, guardámos todas as suas iterações dentro dos 50 segundos de tempo de simulação na pasta frames. Assim, conseguimos acompanhar o desenvolvimento da previsão do filtro a cada iteração k que passa. </p>"
   ]
  },
  {
   "cell_type": "markdown",
   "metadata": {},
   "source": [
    "<p style=\"font-family:Avantgarde; font-size:1.5em;\"> 6. Unscented Kalman Filter (UKF)</p>"
   ]
  },
  {
   "cell_type": "code",
   "execution_count": 41,
   "metadata": {},
   "outputs": [],
   "source": [
    "def generate_sigma_points(xEst, PEst, gamma):\n",
    "    sigma = xEst\n",
    "    Psqrt = sqrtm(PEst)\n",
    "    n = len(xEst[:, 0])\n",
    "    # Positive direction\n",
    "    for i in range(n):\n",
    "        sigma = np.hstack((sigma, xEst + gamma * Psqrt[:, i:i + 1]))\n",
    "\n",
    "    # Negative direction\n",
    "    for i in range(n):\n",
    "        sigma = np.hstack((sigma, xEst - gamma * Psqrt[:, i:i + 1]))\n",
    "\n",
    "    return sigma"
   ]
  },
  {
   "cell_type": "code",
   "execution_count": 42,
   "metadata": {},
   "outputs": [],
   "source": [
    "def predict_sigma_motion(sigma, u):\n",
    "    \"\"\"\n",
    "        Sigma Points prediction with motion model\n",
    "    \"\"\"\n",
    "    for i in range(sigma.shape[1]):\n",
    "        sigma[:, i:i + 1] = dynamic_motion_model(sigma[:, i:i + 1], u)\n",
    "\n",
    "    return sigma"
   ]
  },
  {
   "cell_type": "code",
   "execution_count": 43,
   "metadata": {},
   "outputs": [],
   "source": [
    "def predict_sigma_observation(sigma):\n",
    "    \"\"\"\n",
    "        Sigma Points prediction with observation model\n",
    "    \"\"\"\n",
    "    for i in range(sigma.shape[1]):\n",
    "        sigma[0:2, i] = observation_model(sigma[:, i])\n",
    "\n",
    "    sigma = sigma[0:2, :]\n",
    "\n",
    "    return sigma"
   ]
  },
  {
   "cell_type": "code",
   "execution_count": 44,
   "metadata": {},
   "outputs": [],
   "source": [
    "def calc_sigma_covariance(x, sigma, wc, Pi):\n",
    "    nSigma = sigma.shape[1]\n",
    "    d = sigma - x[0:sigma.shape[0]]\n",
    "    P = Pi\n",
    "    for i in range(nSigma):\n",
    "        P = P + wc[0, i] * d[:, i:i + 1] @ d[:, i:i + 1].T\n",
    "    print(P)\n",
    "    return P"
   ]
  },
  {
   "cell_type": "code",
   "execution_count": 45,
   "metadata": {},
   "outputs": [],
   "source": [
    "def calc_pxz(sigma, x, z_sigma, zb, wc):\n",
    "    nSigma = sigma.shape[1]\n",
    "    dx = sigma - x\n",
    "    dz = z_sigma - zb[0:2]\n",
    "    P = np.zeros((dx.shape[0], dz.shape[0]))\n",
    "\n",
    "    for i in range(nSigma):\n",
    "        P = P + wc[0, i] * dx[:, i:i + 1] @ dz[:, i:i + 1].T\n",
    "    \n",
    "    return P"
   ]
  },
  {
   "cell_type": "code",
   "execution_count": 46,
   "metadata": {},
   "outputs": [],
   "source": [
    "def ukf_estimation(xEst, PEst, z, u, wm, wc, gamma):\n",
    "    #  Predict\n",
    "    sigma = generate_sigma_points(xEst, PEst, gamma)\n",
    "    sigma = predict_sigma_motion(sigma, u)\n",
    "    xPred = (wm @ sigma.T).T\n",
    "    PPred = calc_sigma_covariance(xPred, sigma, wc, Q)\n",
    "\n",
    "    #  Update\n",
    "    zPred = observation_model(xPred)\n",
    "    y = z - zPred\n",
    "    sigma = generate_sigma_points(xPred, PPred, gamma)\n",
    "    zb = (wm @ sigma.T).T\n",
    "    \n",
    "    z_sigma = predict_sigma_observation(sigma)\n",
    "    st = calc_sigma_covariance(zb, z_sigma, wc, R)\n",
    "    Pxz = calc_pxz(sigma, xPred, z_sigma, zb, wc)\n",
    "    K = Pxz @ np.linalg.inv(st)\n",
    "    xEst = xPred + K @ y\n",
    "    PEst = PPred - K @ st @ K.T\n",
    "\n",
    "    return xEst, PEst"
   ]
  },
  {
   "cell_type": "code",
   "execution_count": 47,
   "metadata": {},
   "outputs": [],
   "source": [
    "def plot_covariance_ellipse(xEst, PEst):\n",
    "    Pxy = PEst[0:2, 0:2]\n",
    "    eigval, eigvec = np.linalg.eig(Pxy)\n",
    "\n",
    "    if eigval[0] >= eigval[1]:\n",
    "        bigind = 0\n",
    "        smallind = 1\n",
    "    else:\n",
    "        bigind = 1\n",
    "        smallind = 0\n",
    "\n",
    "    t = np.arange(0, 2 * pi + 0.1, 0.1)\n",
    "    a = sqrt(eigval[bigind])\n",
    "    b = sqrt(eigval[smallind])\n",
    "    x = [a * cos(it) for it in t]\n",
    "    y = [b * sin(it) for it in t]\n",
    "    angle = atan2(eigvec[bigind, 1], eigvec[bigind, 0])\n",
    "    R = np.array([[cos(angle), sin(angle)],\n",
    "                  [-sin(angle), cos(angle)]])\n",
    "    fx = R.dot(np.array([[x, y]]))\n",
    "    px = np.array(fx[0, :] + xEst[0, 0]).flatten()\n",
    "    py = np.array(fx[1, :] + xEst[1, 0]).flatten()\n",
    "    plt.plot(px, py, \"--r\")"
   ]
  },
  {
   "cell_type": "code",
   "execution_count": 48,
   "metadata": {},
   "outputs": [],
   "source": [
    "def setup_ukf(nx):\n",
    "    lamb = ALPHA ** 2 * (nx + KAPPA) - nx\n",
    "    # calculate weights\n",
    "    wm = [lamb / (lamb + nx)]\n",
    "    wc = [(lamb / (lamb + nx)) + (1 - ALPHA ** 2 + BETA)]\n",
    "    for i in range(2 * nx):\n",
    "        wm.append(1.0 / (2 * (nx + lamb)))\n",
    "        wc.append(1.0 / (2 * (nx + lamb)))\n",
    "    gamma = sqrt(nx + lamb)\n",
    "\n",
    "    wm = np.array([wm])\n",
    "    wc = np.array([wc])\n",
    "\n",
    "    return wm, wc, gamma"
   ]
  },
  {
   "cell_type": "markdown",
   "metadata": {},
   "source": [
    "<p style=\"font-family:Avantgarde; font-size:1.5em;\"> 7. Simulação do Movimento do Robot </p>"
   ]
  },
  {
   "cell_type": "markdown",
   "metadata": {},
   "source": [
    "<p style=\"font-family:Avantgarde; font-size:1.5em;\"> 8. Análise do Erro </p>"
   ]
  }
 ],
 "metadata": {
  "kernelspec": {
   "display_name": "Python 3",
   "language": "python",
   "name": "python3"
  },
  "language_info": {
   "codemirror_mode": {
    "name": "ipython",
    "version": 3
   },
   "file_extension": ".py",
   "mimetype": "text/x-python",
   "name": "python",
   "nbconvert_exporter": "python",
   "pygments_lexer": "ipython3",
   "version": "3.10.12"
  },
  "orig_nbformat": 4
 },
 "nbformat": 4,
 "nbformat_minor": 2
}
