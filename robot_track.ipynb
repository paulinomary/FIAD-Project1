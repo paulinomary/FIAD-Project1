{
 "cells": [
  {
   "cell_type": "markdown",
   "metadata": {},
   "source": [
    "<div style=\"width: 100%; overflow: hidden;\">\n",
    "    <div style=\"display: block;margin-left: auto;margin-right: auto; width: 100%;\"><img src=\"./1.png\"  /></div>\n",
    "    </a>\n",
    "</div>"
   ]
  },
  {
   "cell_type": "markdown",
   "metadata": {},
   "source": [
    "<h2 style=\"font-family:Avantgarde; font-size:2em; text-align: center;\">Projeto 1 - Fusão de Informação e Análise de Dados</h2>\n",
    "\n",
    "\n",
    "<h4 style=\"font-family:Avantgarde; font-size:1.75em; text-align: center;\">Mestrado em Engenharia e Ciência de Dados</h4>\n",
    "<h4 style=\"font-family:Avantgarde; font-size:1.3em; text-align: center;\">Ano Letivo 2023/2024</h4>\n",
    "\n",
    "<p style = \"font-family:Avantgarde; font-size:1.1em; text-align: center;\"> <b>Mariana Lopes Paulino - 2020190448</b></p>\n",
    "<p style = \"font-family:Avantgarde; font-size:1.1em; text-align: center;\"> <b>Rui Alexandre Coelho Tapadinhas - 2018283200</b></p>"
   ]
  },
  {
   "cell_type": "markdown",
   "metadata": {},
   "source": [
    "<p style=\"font-family:Avantgarde; font-size:1.25em;\"> <b> Tarefas </b> </p>\n",
    "<p style=\"font-family:Avantgarde; font-size:1em;\"> 1. Criar uma função que implementa o modelo dinâmico do robot; </p>\n",
    "<p style=\"font-family:Avantgarde; font-size:1em;\"> 2. Criar uma função que implementa o modelo de observação; </p>\n",
    "<p style=\"font-family:Avantgarde; font-size:1em;\"> 3. Criar uma função que representa a aquisição de dados dos sensores; </p>\n",
    "<p style=\"font-family:Avantgarde; font-size:1em;\"> 4. Criar uma função que implementa o Extended Kalman Filter (EKF); </p>\n",
    "<p style=\"font-family:Avantgarde; font-size:1em;\"> 5. Criar uma função que implementa o Unscented Kalman Filter (UKF); </p>\n",
    "<p style=\"font-family:Avantgarde; font-size:1em;\"> 6. Especificar os vários parâmetros dos filtros e de simulação do robot; </p>\n",
    "<p style=\"font-family:Avantgarde; font-size:1em;\"> 7. Simular o movimento do robot e representar dinamicamente a sua localização, considerando as trajetórias e a elipse indicadas na Figura 1 </p>\n"
   ]
  },
  {
   "cell_type": "markdown",
   "metadata": {},
   "source": [
    "<p style=\"font-family:Avantgarde; font-size:1.15em;\"> <b> Informações Relevantes </b> </p>\n",
    "<p style=\"font-family:Avantgarde; font-size:1em;\"> O robot tem 4 estados no instante k. xk, yk, Φk, vt.  (x, y) é a posição 2D do robot. Φ é a sua orientação e v a sua velocidade. </p>"
   ]
  },
  {
   "cell_type": "markdown",
   "metadata": {},
   "source": [
    "<p style=\"font-family:Avantgarde; font-size:1.5em;\"> 0. Import Libraries </p>"
   ]
  },
  {
   "cell_type": "code",
   "execution_count": 12,
   "metadata": {},
   "outputs": [],
   "source": [
    "from math import sqrt, cos, sin, ceil, atan2, pi\n",
    "import matplotlib.pyplot as plt\n",
    "import numpy as np\n",
    "import pandas as pd\n",
    "from scipy.linalg import sqrtm\n",
    "from sklearn.metrics import mean_squared_error as mse, r2_score as r2"
   ]
  },
  {
   "cell_type": "markdown",
   "metadata": {},
   "source": [
    "<p style=\"font-family:Avantgarde; font-size:1.5em;\"> 1. Modelo Dinâmico </p>"
   ]
  },
  {
   "cell_type": "markdown",
   "metadata": {},
   "source": [
    "<p style=\"font-family:Avantgarde; font-size:1em;\"> O modelo não linear dinâmico do robot é definido pela expressão: </p>\n",
    "\n",
    "<p style=\"font-family:Avantgarde; font-size:1em; text-align: center;\"> <b> x(k+1) = A*x(k) + B*u(k) + w(k) </b> </p>"
   ]
  },
  {
   "cell_type": "code",
   "execution_count": 13,
   "metadata": {},
   "outputs": [],
   "source": [
    "def input():\n",
    "    v = 1.0  # [m/s]\n",
    "    yawrate = 0.1  # [rad/s]\n",
    "    u = np.array([[v, yawrate]]).T\n",
    "    return u"
   ]
  },
  {
   "cell_type": "code",
   "execution_count": 14,
   "metadata": {},
   "outputs": [],
   "source": [
    "def observation(xTrue, xd, u):\n",
    "\n",
    "    xTrue = dynamic_motion_model(xTrue, u)\n",
    "\n",
    "    # add noise to gps x-y\n",
    "    z = observation_model(xTrue) + GPS_Noise @ np.random.randn(2, 1)\n",
    "\n",
    "    # add noise to input\n",
    "    ud = u + Input_Noise @ np.random.randn(2, 1)\n",
    "\n",
    "    xd = motion_model(xd, ud)\n",
    "\n",
    "    return xTrue, z, xd, ud"
   ]
  },
  {
   "cell_type": "code",
   "execution_count": 16,
   "metadata": {},
   "outputs": [],
   "source": [
    "#TODO: Add noise to the motion model\n",
    "def dynamic_motion_model(x, u):\n",
    "    #Formula x(k+1) = A*x(k) + B*u(k) + w(k)\n",
    "\n",
    "    #Creates a 4x4 matrix where the elements belonging to the principal diagonal are 1,1,1,0.\n",
    "    A = np.diag([1.0, 1.0, 1.0, 0])\n",
    "    #print(A)\n",
    "\n",
    "    B = np.array([[cos(phi) * delta_t, 0],\n",
    "                  [sin(phi) * delta_t, 0],\n",
    "                  [0.0, delta_t],\n",
    "                  [1.0, 0.0]])\n",
    "    #print(B)\n",
    "\n",
    "    # Noise\n",
    "    w = \n",
    "\n",
    "    x = A @ x + B @ u\n",
    "\n",
    "    return x"
   ]
  },
  {
   "cell_type": "markdown",
   "metadata": {},
   "source": [
    "<p style=\"font-family:Avantgarde; font-size:1.5em;\"> 2. Modelo de Observação </p>"
   ]
  },
  {
   "cell_type": "code",
   "execution_count": 17,
   "metadata": {},
   "outputs": [],
   "source": [
    "#TODO: Add noise to the observation model\n",
    "def observation_model(x):\n",
    "    #Formula z(k) = C*x(k) + r(k)\n",
    "\n",
    "    C = np.array([[1, 0, 0, 0],\n",
    "                  [0, 1, 0, 0]])\n",
    "    #print(C)\n",
    "\n",
    "    z = C @ x\n",
    "\n",
    "    return z"
   ]
  },
  {
   "cell_type": "markdown",
   "metadata": {},
   "source": [
    "<p style=\"font-family:Avantgarde; font-size:1.5em;\"> 3. Aquisição de Dados dos Sensores </p>"
   ]
  },
  {
   "cell_type": "code",
   "execution_count": null,
   "metadata": {},
   "outputs": [],
   "source": []
  },
  {
   "cell_type": "markdown",
   "metadata": {},
   "source": [
    "<p style=\"font-family:Avantgarde; font-size:1.5em;\"> 4. Extended Kalman Filter (EKF) </p>"
   ]
  },
  {
   "cell_type": "code",
   "execution_count": 18,
   "metadata": {},
   "outputs": [],
   "source": [
    "def jacobA(x, u):\n",
    "    v = u[0, 0]\n",
    "    phi = x[2, 0]\n",
    "    \n",
    "    jacob_matrix = np.array([[1, 0, -v * np.sin(phi) * delta_t, np.cos(phi) * delta_t],\n",
    "                   [0, 1, v * np.cos(phi) * delta_t, np.sin(phi) * delta_t],\n",
    "                   [0, 0, 1, 0],\n",
    "                   [0, 0, 0, 1]], dtype=float)\n",
    "    \n",
    "    return jacob_matrix"
   ]
  },
  {
   "cell_type": "markdown",
   "metadata": {},
   "source": [
    "<p style=\"font-family:Avantgarde; font-size:1.5em;\"> 5. Unscented Kalman Filter (UKF)</p>"
   ]
  },
  {
   "cell_type": "code",
   "execution_count": 19,
   "metadata": {},
   "outputs": [],
   "source": [
    "def generate_sigma_points(xEst, PEst, gamma):\n",
    "    sigma = xEst\n",
    "    Psqrt = sqrtm(PEst)\n",
    "    n = len(xEst[:, 0])\n",
    "    # Positive direction\n",
    "    for i in range(n):\n",
    "        sigma = np.hstack((sigma, xEst + gamma * Psqrt[:, i:i + 1]))\n",
    "\n",
    "    # Negative direction\n",
    "    for i in range(n):\n",
    "        sigma = np.hstack((sigma, xEst - gamma * Psqrt[:, i:i + 1]))\n",
    "\n",
    "    return sigma"
   ]
  },
  {
   "cell_type": "code",
   "execution_count": 20,
   "metadata": {},
   "outputs": [],
   "source": [
    "def predict_sigma_motion(sigma, u):\n",
    "    \"\"\"\n",
    "        Sigma Points prediction with motion model\n",
    "    \"\"\"\n",
    "    for i in range(sigma.shape[1]):\n",
    "        sigma[:, i:i + 1] = dynamic_motion_model(sigma[:, i:i + 1], u)\n",
    "\n",
    "    return sigma"
   ]
  },
  {
   "cell_type": "code",
   "execution_count": 21,
   "metadata": {},
   "outputs": [],
   "source": [
    "def predict_sigma_observation(sigma):\n",
    "    \"\"\"\n",
    "        Sigma Points prediction with observation model\n",
    "    \"\"\"\n",
    "    for i in range(sigma.shape[1]):\n",
    "        sigma[0:2, i] = observation_model(sigma[:, i])\n",
    "\n",
    "    sigma = sigma[0:2, :]\n",
    "\n",
    "    return sigma"
   ]
  },
  {
   "cell_type": "code",
   "execution_count": 22,
   "metadata": {},
   "outputs": [],
   "source": [
    "def calc_sigma_covariance(x, sigma, wc, Pi):\n",
    "    nSigma = sigma.shape[1]\n",
    "    d = sigma - x[0:sigma.shape[0]]\n",
    "    P = Pi\n",
    "    for i in range(nSigma):\n",
    "        P = P + wc[0, i] * d[:, i:i + 1] @ d[:, i:i + 1].T\n",
    "    print(P)\n",
    "    return P"
   ]
  },
  {
   "cell_type": "code",
   "execution_count": 23,
   "metadata": {},
   "outputs": [],
   "source": [
    "def calc_pxz(sigma, x, z_sigma, zb, wc):\n",
    "    nSigma = sigma.shape[1]\n",
    "    dx = sigma - x\n",
    "    dz = z_sigma - zb[0:2]\n",
    "    P = np.zeros((dx.shape[0], dz.shape[0]))\n",
    "\n",
    "    for i in range(nSigma):\n",
    "        P = P + wc[0, i] * dx[:, i:i + 1] @ dz[:, i:i + 1].T\n",
    "    \n",
    "    return P"
   ]
  },
  {
   "cell_type": "code",
   "execution_count": 24,
   "metadata": {},
   "outputs": [],
   "source": [
    "def ukf_estimation(xEst, PEst, z, u, wm, wc, gamma):\n",
    "    #  Predict\n",
    "    sigma = generate_sigma_points(xEst, PEst, gamma)\n",
    "    sigma = predict_sigma_motion(sigma, u)\n",
    "    xPred = (wm @ sigma.T).T\n",
    "    PPred = calc_sigma_covariance(xPred, sigma, wc, Q)\n",
    "\n",
    "    #  Update\n",
    "    zPred = observation_model(xPred)\n",
    "    y = z - zPred\n",
    "    sigma = generate_sigma_points(xPred, PPred, gamma)\n",
    "    zb = (wm @ sigma.T).T\n",
    "    #print(zb.shape)\n",
    "    z_sigma = predict_sigma_observation(sigma)\n",
    "    st = calc_sigma_covariance(zb, z_sigma, wc, R)\n",
    "    Pxz = calc_pxz(sigma, xPred, z_sigma, zb, wc)\n",
    "    K = Pxz @ np.linalg.inv(st)\n",
    "    xEst = xPred + K @ y\n",
    "    PEst = PPred - K @ st @ K.T\n",
    "\n",
    "    return xEst, PEst"
   ]
  },
  {
   "cell_type": "code",
   "execution_count": 25,
   "metadata": {},
   "outputs": [],
   "source": [
    "def plot_covariance_ellipse(xEst, PEst):\n",
    "    Pxy = PEst[0:2, 0:2]\n",
    "    eigval, eigvec = np.linalg.eig(Pxy)\n",
    "\n",
    "    if eigval[0] >= eigval[1]:\n",
    "        bigind = 0\n",
    "        smallind = 1\n",
    "    else:\n",
    "        bigind = 1\n",
    "        smallind = 0\n",
    "\n",
    "    t = np.arange(0, 2 * pi + 0.1, 0.1)\n",
    "    a = sqrt(eigval[bigind])\n",
    "    b = sqrt(eigval[smallind])\n",
    "    x = [a * cos(it) for it in t]\n",
    "    y = [b * sin(it) for it in t]\n",
    "    angle = atan2(eigvec[bigind, 1], eigvec[bigind, 0])\n",
    "    R = np.array([[cos(angle), sin(angle)],\n",
    "                  [-sin(angle), cos(angle)]])\n",
    "    fx = R.dot(np.array([[x, y]]))\n",
    "    px = np.array(fx[0, :] + xEst[0, 0]).flatten()\n",
    "    py = np.array(fx[1, :] + xEst[1, 0]).flatten()\n",
    "    plt.plot(px, py, \"--r\")"
   ]
  },
  {
   "cell_type": "markdown",
   "metadata": {},
   "source": [
    "<p style=\"font-family:Avantgarde; font-size:1.5em;\"> 7. Simulação do Movimento do Robot </p>"
   ]
  },
  {
   "cell_type": "code",
   "execution_count": null,
   "metadata": {},
   "outputs": [],
   "source": []
  }
 ],
 "metadata": {
  "kernelspec": {
   "display_name": "Python 3",
   "language": "python",
   "name": "python3"
  },
  "language_info": {
   "codemirror_mode": {
    "name": "ipython",
    "version": 3
   },
   "file_extension": ".py",
   "mimetype": "text/x-python",
   "name": "python",
   "nbconvert_exporter": "python",
   "pygments_lexer": "ipython3",
   "version": "3.10.12"
  },
  "orig_nbformat": 4
 },
 "nbformat": 4,
 "nbformat_minor": 2
}
