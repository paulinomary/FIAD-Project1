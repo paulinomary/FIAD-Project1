{
 "cells": [
  {
   "cell_type": "markdown",
   "metadata": {},
   "source": [
    "<div style=\"width: 100%; overflow: hidden;\">\n",
    "    <a href=\"http://www.uc.pt/fctuc/dei/\">\n",
    "    <div style=\"display: block;margin-left: auto;margin-right: auto; width: 100%;\"><img src=\"https://eden.dei.uc.pt/~naml/images_ecos/dei25.png\"  /></div>\n",
    "    </a>\n",
    "</div>"
   ]
  },
  {
   "cell_type": "markdown",
   "metadata": {},
   "source": [
    "<h2 style=\"font-family:Avantgarde; font-size:2em; text-align: center;\">Projeto 1 - Fusão de Informação e Análise de Dados</h2>\n",
    "\n",
    "\n",
    "<h4 style=\"font-family:Avantgarde; font-size:1.75em; text-align: center;\">Mestrado em Engenharia e Ciência de Dados</h4>\n",
    "<h4 style=\"font-family:Avantgarde; font-size:1.3em; text-align: center;\">Ano Letivo 2023/2024</h4>\n",
    "\n",
    "<p style = \"font-family:Avantgarde; font-size:1.1em; text-align: center;\"> <b>Mariana Lopes Paulino - 2020190448</b></p>\n",
    "<p style = \"font-family:Avantgarde; font-size:1.1em; text-align: center;\"> <b>Rui Alexandre Coelho Tapadinhas - 2018283200</b></p>"
   ]
  },
  {
   "cell_type": "markdown",
   "metadata": {},
   "source": [
    "<p style=\"font-family:Avantgarde; font-size:1.5em;\"> 1. Import Libraries </p>"
   ]
  },
  {
   "cell_type": "code",
   "execution_count": null,
   "metadata": {},
   "outputs": [],
   "source": []
  }
 ],
 "metadata": {
  "kernelspec": {
   "display_name": "Python 3",
   "language": "python",
   "name": "python3"
  },
  "language_info": {
   "codemirror_mode": {
    "name": "ipython",
    "version": 3
   },
   "file_extension": ".py",
   "mimetype": "text/x-python",
   "name": "python",
   "nbconvert_exporter": "python",
   "pygments_lexer": "ipython3",
   "version": "3.11.7"
  },
  "orig_nbformat": 4
 },
 "nbformat": 4,
 "nbformat_minor": 2
}
